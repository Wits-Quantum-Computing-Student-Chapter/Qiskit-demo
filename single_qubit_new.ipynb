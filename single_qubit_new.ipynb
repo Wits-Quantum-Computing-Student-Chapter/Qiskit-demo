{
 "cells": [
  {
   "cell_type": "markdown",
   "id": "5812ceb7",
   "metadata": {},
   "source": [
    "# Updated single qubit operations "
   ]
  },
  {
   "cell_type": "code",
   "execution_count": null,
   "id": "e740f221",
   "metadata": {},
   "outputs": [],
   "source": [
    "# Import all necessary packages\n",
    "\n",
    "# here are the objects that we use to create a quantum circuit in qiskit\n",
    "from qiskit import QuantumRegister, ClassicalRegister, QuantumCircuit\n",
    "import numpy as np\n",
    "from qiskit.circuit.library import iqp\n",
    "from qiskit.transpiler import generate_preset_pass_manager\n",
    "from qiskit.quantum_info import random_hermitian\n",
    "from qiskit_ibm_runtime import QiskitRuntimeService, SamplerV2 as Sampler\n",
    "from qiskit.visualization import plot_bloch_multivector, plot_bloch_vector, plot_histogram\n",
    "from qiskit.quantum_info import Statevector\n",
    "import matplotlib.pyplot as plt\n",
    "from qiskit_aer import AerSimulator\n",
    "from qiskit_aer.primitives import EstimatorV2 as Estimator\n",
    "from qiskit.quantum_info import Statevector, DensityMatrix, partial_trace\n",
    "from qiskit import QuantumCircuit , transpile\n",
    "from qiskit.visualization import plot_state_city, plot_state_hinton, plot_state_qsphere\n",
    "\n",
    "from IPython.display import Markdown\n",
    "from PIL import Image\n",
    "from IPython.display import Image as IPImage\n",
    "import io\n"
   ]
  },
  {
   "cell_type": "markdown",
   "id": "395c2485",
   "metadata": {},
   "source": [
    "## 2. Single Qubit gates and transformations \n",
    "### The Pauli Gates (X, Y & Z Gates)\n",
    "We will now learn about some common quantum gates that will be used to transform our states.\n",
    "\n",
    "The Pauli X, Y, and Z gates are operations that rotate a single qubit $180^\\circ$ ($\\pi$ radians) around the corresponding X, Y, or Z axis of the Bloch sphere.\n",
    "\n",
    "For now we will consider how these gates impact the state $\\ket{0}$, the initial value of every qubit in `qiskit`."
   ]
  },
  {
   "cell_type": "markdown",
   "id": "7020a891",
   "metadata": {},
   "source": [
    "#### The X-Gate (Quantum `not`)\n",
    "The Pauli X-gate corresponds to a rotation around the x-axis. This means it will flip state $\\ket{0}$ to state $\\ket{1}$ and visa versa making it analogous to a classical `not` operation.\n",
    "\n",
    "#### The Y gate\n",
    "The Y-gate does a $\\pi$ radian rotation about the Y-axis\n",
    "\n",
    "#### The Z-Gate\n",
    "The Z-gate performs a $\\pi$ radian rotation around the Z-axis.\n",
    "\n",
    "Lets apply the different rotation gates to the states below:"
   ]
  },
  {
   "cell_type": "code",
   "execution_count": null,
   "id": "5de28fc9",
   "metadata": {},
   "outputs": [],
   "source": [
    "QuCirc = QuantumCircuit(3)\n",
    "\n",
    "QuCirc.h(1)\n",
    "QuCirc.h(2)\n",
    "QuCirc.z(2)\n",
    "QuCirc.draw('mpl')\n",
    "\n",
    "display(plot_bloch_multivector(QuCirc))"
   ]
  },
  {
   "cell_type": "markdown",
   "id": "d4d8c91d",
   "metadata": {},
   "source": [
    "#### Question:\n",
    "- Why does quibit 2 not rotate?"
   ]
  },
  {
   "cell_type": "markdown",
   "id": "a3770447",
   "metadata": {},
   "source": [
    "#### Fiddle\n",
    "Let's initialize some qubit states and see how the X, Y and Z gates effect them.\n",
    "\n",
    "#### Challenge\n",
    "- Can you you X, Y and Z gates to invert all six initial states?\n",
    "That is transform $\\ket{0}\\leftrightarrow\\ket{1}$, $\\ket{+}\\leftrightarrow\\ket{-}$ and $\\ket{i}\\leftrightarrow\\ket{-i}$ (these are `l` and `r` in qiskit).\n",
    "\n",
    "- **Bonus:** Do the inversion by apply every gate you add to *all* six qubits simultaneously."
   ]
  },
  {
   "cell_type": "code",
   "execution_count": null,
   "id": "46a49e71",
   "metadata": {},
   "outputs": [],
   "source": [
    "# Initialize qubit states \n",
    "QuCirc = QuantumCircuit(6)\n",
    "QuCirc.initialize('01+-rl'[::-1],range(6)) # Play around with `01+-rl` to change the initial states\n",
    "QuCirc = QuCirc.decompose(reps=1) # Not needed but good to see what's going on when qubits are initialized \n",
    "QuCirc.barrier()\n",
    "\n",
    "# Store initial state vector for reference \n",
    "initial_state = Statevector(QuCirc)\n",
    "\n",
    "\n",
    "# Your gates go here...\n",
    "QuCirc.y(range(6)) # A y gate on all qubits \n",
    "\n",
    "\n",
    "\n",
    "\n",
    "\n",
    "# Display qubit states\n",
    "display(plot_bloch_multivector(initial_state, title=\"Initial State\"))\n",
    "display(plot_bloch_multivector(QuCirc, title=\"Final State\"))\n",
    "\n",
    "# Display Circuit\n",
    "display(QuCirc.draw('mpl'))"
   ]
  },
  {
   "cell_type": "markdown",
   "id": "c080bb70",
   "metadata": {},
   "source": [
    "### Mathematic Representation  \n",
    "Recall that we describe qubits as a superposition of two states:\n",
    "$$\n",
    "\\ket{\\psi}=\\alpha\\ket{0}+\\beta\\ket{1}=\\alpha\n",
    "\\begin{bmatrix}\n",
    "    1\\\\0\n",
    "\\end{bmatrix}\n",
    "+\\beta\n",
    "\\begin{bmatrix}\n",
    "    0\\\\1\n",
    "\\end{bmatrix}\n",
    "=\\begin{bmatrix}\n",
    "    \\alpha\\\\\\beta\n",
    "\\end{bmatrix}\n",
    "$$\n",
    "Coefficients $\\alpha$ and $\\beta$ are complex values where $|\\alpha|^2=\\alpha\\alpha^*$ and $|\\beta|^2=\\beta\\beta^*$ are the probabilities of measuring `0` and `1` respectively.\n",
    "\n",
    "#### Applying a Quantum Gate\n",
    "We can then describe single qubit operation (gate) as a $2\\times2$ complex matrix operator $U$ and apply it through mutilation:\n",
    "$$\n",
    "\\ket{\\psi'}=\n",
    "\\begin{bmatrix}\n",
    "    \\alpha'\\\\\\beta'\n",
    "\\end{bmatrix}\n",
    "= \\begin{bmatrix}\n",
    "    U_{0,0} & U_{0,1} \\\\\n",
    "    U_{1,0} & U_{1,1}\n",
    "\\end{bmatrix}\n",
    "\\begin{bmatrix}\n",
    "    \\alpha\\\\\\beta\n",
    "\\end{bmatrix}\n",
    "=U\\ket{\\psi}\n",
    "$$\n",
    "\n",
    "**Note:** The indexing used for matrix values here matches how you would access them in `python`. For example $U_{1,0}$ is `u[1,0]`\n",
    "\n",
    "The matrix operator $U$ is valid if, and only if, **probity is conserved**. This means that $U$ must be a unitary matrix such that \n",
    "$$\n",
    "U^\\dagger U = UU^\\dagger=\\mathbb{I}\n",
    "$$\n",
    "were $U^\\dagger$ denotes the Hermitian Adjoint (complex conjugate) and $\\mathbb{I}$ is the identity matrix."
   ]
  },
  {
   "cell_type": "markdown",
   "id": "2216145e",
   "metadata": {},
   "source": [
    "#### X, Y and Z matrices  \n",
    "The matrices for the Pauli gates are as follows:\n",
    "$$\n",
    "X=\\begin{bmatrix}\n",
    "0 & 1 \\\\\n",
    "1 & 0\n",
    "\\end{bmatrix}\n",
    "\\hspace{15pt}\n",
    "Y=\\begin{bmatrix}\n",
    "0 & -i \\\\\n",
    "i & 0\n",
    "\\end{bmatrix}\n",
    "\\hspace{15pt}\n",
    "Z=\\begin{bmatrix}\n",
    "1 & 0 \\\\\n",
    "0 & -1\n",
    "\\end{bmatrix}\n",
    "$$\n"
   ]
  },
  {
   "cell_type": "markdown",
   "id": "13bd94f8",
   "metadata": {},
   "source": [
    "#### Fiddle\n",
    "- See how applying a the Pauli gates works algebraically "
   ]
  },
  {
   "cell_type": "code",
   "execution_count": null,
   "id": "867326ab",
   "metadata": {},
   "outputs": [],
   "source": [
    "# These functions will help us visualize matrices in jupyter\n",
    "from typing import Literal, Iterable\n",
    "def fmt_complex(z:complex, fmt_str:str = \"{:.2g}\"):\n",
    "    if z.imag == 0:\n",
    "        return fmt_str.format(z.real)\n",
    "    if z.real == 0: # We know imag is non-zero\n",
    "        return fmt_str.format(z.imag)+'j'\n",
    "    \n",
    "    # No special case\n",
    "    return fmt_str.format(z)\n",
    "\n",
    "def mat2latex(matrix:Iterable|Iterable[Iterable], matrix_type:Literal['b', 'p', '']='b', fmt_str:str = \"{:.2g}\")->str:\n",
    "    \"\"\"\n",
    "    Formats the given input `matrix` as a latex equation.\n",
    "\n",
    "    Args:\n",
    "        * `matrix_type` defines the brackets used, [`'b'`:[ ], `'p'`:( ), `''`:no brackets]\n",
    "        * `fmt_str` is a python string format that is used to prase matrix entries as strings\n",
    "    \"\"\"\n",
    "    matrix_str = f\"\\\\begin{{{matrix_type}matrix}}\\n\"\n",
    "    for row in matrix:\n",
    "        if isinstance(row, Iterable):\n",
    "            if isinstance(row, np.ndarray) and row.size == 1:\n",
    "                matrix_str += fmt_complex(row.item(), fmt_str) + ' \\\\\\\\ \\n'\n",
    "                continue\n",
    "            matrix_str += \" & \".join([fmt_complex(v, fmt_str) for v in row]) + '\\\\\\\\ \\n'\n",
    "        else:\n",
    "           \n",
    "            matrix_str += fmt_complex(row, fmt_str) + ' \\\\\\\\ \\n'\n",
    "    matrix_str += f\"\\\\end{{{matrix_type}matrix}}\"\n",
    "    return matrix_str"
   ]
  },
  {
   "cell_type": "code",
   "execution_count": null,
   "id": "8b553800",
   "metadata": {},
   "outputs": [],
   "source": [
    "from qiskit.circuit.library import XGate, YGate, ZGate # These will let us get quantum gates as matrices\n",
    "\n",
    "# Define our initial state, in this case |0>\n",
    "initial_state = np.matrix([\n",
    "    [1],\n",
    "    [0]\n",
    "], dtype=np.complex128)\n",
    "\n",
    "# Ensure that input state is valid probability distribution\n",
    "initial_state /= np.sqrt(np.sum(np.square(initial_state),axis=0))\n",
    "\n",
    "# Example: Create an X gate matrix (Change this to anything you like)\n",
    "operation = XGate().to_matrix()\n",
    "\n",
    "# Apply the operation\n",
    "final_state = operation * initial_state\n",
    "\n",
    "\n",
    "display(Markdown(f\"$${mat2latex(operation)}{mat2latex(initial_state)}={mat2latex(final_state)}$$\"))\n",
    "\n",
    "display(plot_bloch_multivector(Statevector(initial_state), title=\"Initial State\"))\n",
    "display(plot_bloch_multivector(Statevector(final_state), title=\"Final State\"))\n"
   ]
  },
  {
   "cell_type": "markdown",
   "id": "f95ac72c",
   "metadata": {},
   "source": [
    "#### Question:\n",
    "- Quantum gates *must* be unitary operation. What does this imply about their physical and computational properties?\n",
    "\n",
    "#### Challenge:\n",
    "- Edit the code above to include the inverse operation of each gate to show that the final state is the same as the initial.\n",
    "The `.conj()` and `.transpose()` might be helpful."
   ]
  },
  {
   "cell_type": "markdown",
   "id": "71d35095",
   "metadata": {},
   "source": [
    "## The Hadamard (H) Gate - Where the magic happens \n",
    "\n",
    "The power of quantum computing is in superposition\n",
    "\n",
    "And to make superposition we use H-gates!"
   ]
  },
  {
   "cell_type": "markdown",
   "id": "c45570db",
   "metadata": {},
   "source": [
    "### Algebraic Description\n",
    "The operator for this gate is as follows:\n",
    "$$\n",
    "H=\\frac{1}{\\sqrt{2}}\\begin{bmatrix}1&1\\\\1&-1\\end{bmatrix}\n",
    "$$\n",
    "\n",
    "Note that this matrix is not purely diagonal which meas it will translate from the deterministic states $\\ket{0}$ and $\\ket{1}$ to the probabilistic states $\\ket{+}$ and $\\ket{-}$\n",
    "\n",
    "Lets see how that works in code:"
   ]
  },
  {
   "cell_type": "code",
   "execution_count": null,
   "id": "8779b6a8",
   "metadata": {},
   "outputs": [],
   "source": [
    "QuCirc = QuantumCircuit(1)\n",
    "QuCirc.h(0)\n",
    "display(QuCirc.draw('mpl', initial_state=True))\n",
    "\n",
    "display(plot_bloch_multivector(QuCirc))"
   ]
  },
  {
   "cell_type": "markdown",
   "id": "d7beddac",
   "metadata": {},
   "source": [
    "Apply the H-gate effects some more common qubit states:"
   ]
  },
  {
   "cell_type": "code",
   "execution_count": null,
   "id": "3c4646df",
   "metadata": {},
   "outputs": [],
   "source": [
    "QuCirc = QuantumCircuit(6)\n",
    "QuCirc.initialize('01+-lr'[::-1], range(6))\n",
    "initial_state = Statevector(QuCirc)\n",
    "\n",
    "QuCirc.h(range(6))\n",
    "\n",
    "final_state = Statevector(QuCirc)\n",
    "\n",
    "display(plot_bloch_multivector(Statevector(initial_state), title=\"Initial State\"))\n",
    "display(plot_bloch_multivector(Statevector(final_state), title=\"After H-Gate\"))"
   ]
  },
  {
   "cell_type": "markdown",
   "id": "0c6fd990",
   "metadata": {},
   "source": [
    "#### Questions\n",
    "- What is the inverse of the H-Gate?\n",
    "- Is the H-Gate also a rotation?"
   ]
  },
  {
   "cell_type": "markdown",
   "id": "e77ec425",
   "metadata": {},
   "source": [
    "### Arbitrary Rotations on any axis \n",
    "We can make arbitrary gates with even smaller rogations by following the same logic as the Pauli gates.\n",
    "For example a $\\frac\\pi3$ radian ration would use the third primary root of unity of the respective Pauli gate for the axis of rotation.\n",
    "\n",
    "So $\\sqrt[3]{Z}$ is a $\\frac \\pi 3$ rotation around the Z-axis and more generally: $\\sqrt[n]{Z}$ is a $\\frac \\pi n$ rotation.\n",
    "\n",
    "In `qiskit` we can do this using generic `rz` gates.\n",
    "\n",
    "If we wanted to rotate on the X or Y axis we could use `rx` and `ry` gates as well.\n",
    "\n",
    "Try some combinations out below, mess about and have fun!"
   ]
  },
  {
   "cell_type": "code",
   "execution_count": null,
   "id": "11682716",
   "metadata": {},
   "outputs": [],
   "source": [
    "QuCirc = QuantumCircuit(3)\n",
    "QuCirc.rz(np.pi/3,0) #You have to specify the rotation angle and the target qubit in that order \n",
    "QuCirc.ry(np.pi/3,1) # For example this: `ry(np.pi/3,1)` rotates qubit 1 π/3 rad around the y axis.\n",
    "QuCirc.rx(np.pi/3,2) \n",
    "display(plot_bloch_multivector(QuCirc))\n",
    "display(QuCirc.draw('mpl', initial_state=True))"
   ]
  },
  {
   "cell_type": "markdown",
   "id": "b8206dcd",
   "metadata": {},
   "source": [
    "#### Question\n",
    "- We now know how to move from probabilistic to deterministic states using quatre X and Y rotations. Is the H-gate still special?\n",
    "- Why is The H-gate different?\n",
    "- Why is that useful?"
   ]
  },
  {
   "cell_type": "markdown",
   "id": "ff557a13",
   "metadata": {},
   "source": [
    "#### Let's have some fun\n",
    "The code below can be used to make a gif of a rotating bloch vector.\n",
    "\n",
    "For this example we are spinning around the Y axis but you can play around with different circuits gates in the for-loop "
   ]
  },
  {
   "cell_type": "code",
   "execution_count": null,
   "id": "982b7a52",
   "metadata": {},
   "outputs": [],
   "source": [
    "# Plotting the gif may take a short while...\n",
    "\n",
    "# We will save many plots to make a gif \n",
    "frames = []\n",
    "\n",
    "QuCirc = QuantumCircuit(1)\n",
    "\n",
    "n_steps = 40\n",
    "\n",
    "for n in range(n_steps):\n",
    "    \n",
    "    theta = 2*np.pi/n_steps\n",
    "    QuCirc.ry(theta,0) # append another gate to the circuit, gates from previous loops all still apply\n",
    "\n",
    "\n",
    "    plot = plot_bloch_multivector(QuCirc)\n",
    "\n",
    "\n",
    "    # This will write our plot to the gif frames \n",
    "    buf = io.BytesIO()\n",
    "    plot.savefig(buf, format='png')\n",
    "    frames.append(Image.open(buf))\n",
    "\n",
    "\n",
    "\n",
    "# Filename for our gif \n",
    "GIF_PATH = 'gif.gif'\n",
    "# Save the gif\n",
    "frames[0].save(GIF_PATH,\n",
    "               save_all = True,\n",
    "               #append_images = frames[1:] + frames[1:-2][::-1],\n",
    "               append_images = frames[1:],\n",
    "               duration = 100,\n",
    "               loop=0)\n",
    "\n",
    "# Display the gif\n",
    "display(IPImage(data=open(GIF_PATH,'rb').read(), format='png'))"
   ]
  },
  {
   "cell_type": "markdown",
   "id": "74a07a7f",
   "metadata": {},
   "source": [
    "#### Challenge:\n",
    "- You now learnt how to do arbitrary rotations. Try to apply an arbitrary set of rotations that traces out an interesting curve on the bloch sphere. \n",
    "- See if you can use frames and maybe a for loop to animate your traced curve as a gif\n",
    "- **Bonus** can you parameterize your curve in a for loop?\n",
    "\n",
    "**Tip**: If you want to remove all gates from a quantum circuit (maybe you need a 'clean slate' each loop) you can call `.clear()`."
   ]
  }
 ],
 "metadata": {
  "kernelspec": {
   "display_name": ".venv (3.12.2)",
   "language": "python",
   "name": "python3"
  },
  "language_info": {
   "codemirror_mode": {
    "name": "ipython",
    "version": 3
   },
   "file_extension": ".py",
   "mimetype": "text/x-python",
   "name": "python",
   "nbconvert_exporter": "python",
   "pygments_lexer": "ipython3",
   "version": "3.12.2"
  }
 },
 "nbformat": 4,
 "nbformat_minor": 5
}
