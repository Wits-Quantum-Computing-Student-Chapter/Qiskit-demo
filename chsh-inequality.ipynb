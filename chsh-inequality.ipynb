{
  "cells": [
    {
      "cell_type": "code",
      "execution_count": null,
      "id": "9c83f0dc",
      "metadata": {},
      "outputs": [],
      "source": []
    },
    {
      "cell_type": "markdown",
      "id": "06e8f583",
      "metadata": {},
      "source": [
        "What is entanglement?"
      ]
    },
    {
      "cell_type": "code",
      "execution_count": null,
      "id": "f3aec0d7",
      "metadata": {},
      "outputs": [],
      "source": []
    },
    {
      "cell_type": "markdown",
      "id": "4707c0f1",
      "metadata": {},
      "source": [
        "How to generate entanglement in qiskit."
      ]
    },
    {
      "cell_type": "code",
      "execution_count": 17,
      "id": "0743158b",
      "metadata": {},
      "outputs": [
        {
          "ename": "ImportError",
          "evalue": "cannot import name 'assemble' from 'qiskit.compiler' (/Users/neelangounden/opt/anaconda3/lib/python3.9/site-packages/qiskit/compiler/__init__.py)",
          "output_type": "error",
          "traceback": [
            "\u001b[0;31m---------------------------------------------------------------------------\u001b[0m",
            "\u001b[0;31mImportError\u001b[0m                               Traceback (most recent call last)",
            "\u001b[1;32m/Users/neelangounden/Downloads/chsh-inequality.ipynb Cell 5\u001b[0m in \u001b[0;36m<cell line: 2>\u001b[0;34m()\u001b[0m\n\u001b[1;32m      <a href='vscode-notebook-cell:/Users/neelangounden/Downloads/chsh-inequality.ipynb#X50sZmlsZQ%3D%3D?line=0'>1</a>\u001b[0m \u001b[39mfrom\u001b[39;00m \u001b[39mqiskit\u001b[39;00m \u001b[39mimport\u001b[39;00m QuantumCircuit, transpile\n\u001b[0;32m----> <a href='vscode-notebook-cell:/Users/neelangounden/Downloads/chsh-inequality.ipynb#X50sZmlsZQ%3D%3D?line=1'>2</a>\u001b[0m \u001b[39mfrom\u001b[39;00m \u001b[39mqiskit\u001b[39;00m\u001b[39m.\u001b[39;00m\u001b[39mcompiler\u001b[39;00m \u001b[39mimport\u001b[39;00m assemble\n\u001b[1;32m      <a href='vscode-notebook-cell:/Users/neelangounden/Downloads/chsh-inequality.ipynb#X50sZmlsZQ%3D%3D?line=2'>3</a>\u001b[0m \u001b[39mfrom\u001b[39;00m \u001b[39mqiskit\u001b[39;00m\u001b[39m.\u001b[39;00m\u001b[39mproviders\u001b[39;00m\u001b[39m.\u001b[39;00m\u001b[39maer\u001b[39;00m \u001b[39mimport\u001b[39;00m AerSimulator\n\u001b[1;32m      <a href='vscode-notebook-cell:/Users/neelangounden/Downloads/chsh-inequality.ipynb#X50sZmlsZQ%3D%3D?line=4'>5</a>\u001b[0m \u001b[39m# 1) Build the circuit\u001b[39;00m\n",
            "\u001b[0;31mImportError\u001b[0m: cannot import name 'assemble' from 'qiskit.compiler' (/Users/neelangounden/opt/anaconda3/lib/python3.9/site-packages/qiskit/compiler/__init__.py)"
          ]
        }
      ],
      "source": [
        "from qiskit import QuantumCircuit, transpile\n",
        "from qiskit.compiler import assemble\n",
        "from qiskit.providers.aer import AerSimulator\n",
        "\n",
        "# 1) Build the circuit\n",
        "qc = QuantumCircuit(1, 1)\n",
        "qc.h(0)\n",
        "qc.measure(0, 0)\n",
        "\n",
        "# 2) Choose simulator\n",
        "sim = AerSimulator()\n",
        "\n",
        "# 3) Transpile for the backend\n",
        "tqc = transpile(qc, sim)\n",
        "\n",
        "# 4) Assemble into a Qobj (including shot count)\n",
        "qobj = assemble(tqc, sim, shots=1024)\n",
        "\n",
        "# 5) Run and fetch results\n",
        "job    = sim.run(qobj)\n",
        "result = job.result()\n",
        "print(\"Counts:\", result.get_counts())\n"
      ]
    },
    {
      "cell_type": "markdown",
      "id": "30734ce9",
      "metadata": {},
      "source": [
        "# CHSH inequality\n",
        "\n"
      ]
    },
    {
      "cell_type": "markdown",
      "id": "6b41d6b3",
      "metadata": {},
      "source": [
        "*Usage estimate: Two minutes on ibm\\_kingston (NOTE: This is an estimate only. Your runtime might vary.)*\n",
        "\n"
      ]
    },
    {
      "cell_type": "markdown",
      "id": "93ae1484",
      "metadata": {},
      "source": [
        "## Background\n",
        "\n",
        "In this tutorial, you will run an experiment on a quantum computer to demonstrate the violation of the CHSH inequality with the Estimator primitive.\n",
        "\n",
        "The CHSH inequality, named after the authors Clauser, Horne, Shimony, and Holt, is used to experimentally prove Bell's theorem (1969). This theorem asserts that local hidden variable theories cannot account for some consequences of entanglement in quantum mechanics. The violation of the CHSH inequality is used to show that quantum mechanics is incompatible with local hidden-variable theories. This is an important experiment for understanding the foundation of quantum mechanics.\n",
        "\n",
        "The 2022 Nobel Prize for Physics was awarded to Alain Aspect, John Clauser and Anton Zeilinger in part for their pioneering work in quantum information science, and in particular, for their experiments with entangled photons demonstrating violation of Bell’s inequalities.\n",
        "\n"
      ]
    },
    {
      "cell_type": "markdown",
      "id": "6f5d9398-5aaa-4596-a554-61c923f0c2d2",
      "metadata": {},
      "source": [
        "## Requirements\n",
        "\n",
        "Before starting this tutorial, ensure that you have the following installed:\n",
        "\n",
        "*   Qiskit SDK 1.0 or later\n",
        "*   Qiskit Runtime (`pip install qiskit-ibm-runtime`) 0.22 or later\n",
        "*   Visualization support (`'qiskit[visualization]'`)\n",
        "\n"
      ]
    },
    {
      "cell_type": "markdown",
      "id": "b5df762e",
      "metadata": {},
      "source": [
        "## Setup\n",
        "\n"
      ]
    },
    {
      "cell_type": "code",
      "execution_count": null,
      "id": "3938d4a6",
      "metadata": {},
      "outputs": [
        {
          "name": "stderr",
          "output_type": "stream",
          "text": [
            "/var/folders/_t/xwxrnwj13b123b_p7nfb8hvw0000gn/T/ipykernel_72987/4103514031.py:5: DeprecationWarning: Using Qiskit with Python 3.9 is deprecated as of the 2.1.0 release. Support for running Qiskit with Python 3.9 will be removed in the 2.3.0 release, which coincides with when Python 3.9 goes end of life.\n",
            "  from qiskit import QuantumCircuit\n",
            "/var/folders/_t/xwxrnwj13b123b_p7nfb8hvw0000gn/T/ipykernel_72987/4103514031.py:11: DeprecationWarning: Using qiskit-ibm-runtime with Python 3.9 is deprecated as of the 0.41.0 release. Support for running qiskit-ibm-runtime with Python 3.9 will be removed in a future release.\n",
            "  from qiskit_ibm_runtime import QiskitRuntimeService\n"
          ]
        }
      ],
      "source": [
        "# General\n",
        "import numpy as np\n",
        "\n",
        "# Qiskit imports\n",
        "from qiskit import QuantumCircuit\n",
        "from qiskit.circuit import Parameter\n",
        "from qiskit.quantum_info import SparsePauliOp\n",
        "from qiskit.transpiler.preset_passmanagers import generate_preset_pass_manager\n",
        "\n",
        "# Qiskit Runtime imports\n",
        "from qiskit_ibm_runtime import QiskitRuntimeService\n",
        "from qiskit_ibm_runtime import EstimatorV2 as Estimator\n",
        "\n",
        "# Plotting routines\n",
        "import matplotlib.pyplot as plt\n",
        "import matplotlib.ticker as tck"
      ]
    },
    {
      "cell_type": "markdown",
      "id": "66d5e2e2",
      "metadata": {},
      "source": [
        "## Step 1: Map classical inputs to a quantum problem\n",
        "\n"
      ]
    },
    {
      "cell_type": "markdown",
      "id": "36669708",
      "metadata": {},
      "source": [
        "For this experiment, we will create an entangled pair on which we measure each qubit on two different bases. We will label the bases for the first qubit $A$ and $a$ and the bases for the second qubit $B$ and $b$.  This allows us to compute the CHSH quantity $S_1$:\n",
        "\n",
        "$$\n",
        "S_1 = A(B-b) + a(B+b).\n",
        "$$\n",
        "\n",
        "Each observable is either $+1$ or $-1$. Clearly, one of the terms $B\\pm b$ must be $0$, and the other must be $\\pm 2$.  Therefore, $S_1 = \\pm 2$. The average value of $S_1$ must satisfy the inequality:\n",
        "\n",
        "$$\n",
        "|\\langle S_1 \\rangle|\\leq 2.\n",
        "$$\n",
        "\n",
        "Expanding $S_1$ in terms of $A$, $a$, $B$, and $b$ results in:\n",
        "\n",
        "$$\n",
        "|\\langle S_1 \\rangle| = |\\langle AB \\rangle - \\langle Ab \\rangle + \\langle aB \\rangle + \\langle ab \\rangle| \\leq 2\n",
        "$$\n",
        "\n",
        "You can define another CHSH quantity $S_2$:\n",
        "\n",
        "$$\n",
        "S_2 = A(B+b) - a(B-b),\n",
        "$$\n",
        "\n",
        "This leads to another inequality:\n",
        "\n",
        "$$\n",
        "|\\langle S_2 \\rangle| = |\\langle AB \\rangle + \\langle Ab \\rangle - \\langle aB \\rangle + \\langle ab \\rangle| \\leq 2\n",
        "$$\n",
        "\n",
        "If quantum mechanics can be described by local hidden variable theories, the previous inequalities must hold true. However, as is demonstrated in this tutorial, these inequalities can be violated in a quantum computer.  Therefore, quantum mechanics is not compatible with local hidden variable theories.\n",
        "\n"
      ]
    },
    {
      "cell_type": "markdown",
      "id": "2033cfcd",
      "metadata": {},
      "source": [
        "If you want to learn more theory, explore [Entanglement in Action](/learning/courses/basics-of-quantum-information/entanglement-in-action/chsh-game) with John Watrous.\n",
        "\n"
      ]
    },
    {
      "cell_type": "markdown",
      "id": "d4cec8d8",
      "metadata": {},
      "source": [
        "You will create an entangled pair between two qubits in a quantum computer by creating the Bell state $|\\Phi^+\\rangle = \\frac{|00\\rangle + |11\\rangle}{\\sqrt{2}}$. Using the Estimator primitive, you can directly obtain the expectation values needed ($\\langle AB \\rangle, \\langle Ab \\rangle, \\langle aB \\rangle$, and $\\langle ab \\rangle$) to calculate the expectation values of the two CHSH quantities $\\langle S_1\\rangle$ and $\\langle S_2\\rangle$. Before the introduction of the Estimator primitive, you would have to construct the expectation values from the measurement outcomes.\n",
        "\n",
        "You will measure the second qubit in the $Z$ and $X$ bases.  The first qubit will be measured also in orthogonal bases, but with an angle with respect to the second qubit, which we are going to sweep between $0$ and $2\\pi$. As you will see, the Estimator primitive makes running parameterized circuits very easy. Rather than creating a series of CHSH circuits, you only need to create *one* CHSH circuit with a parameter specifying the measurement angle and a series of phase values for the parameter.\n",
        "\n",
        "Finally, you will analyze the results and plot them against the measurement angle. You will see that for certain range of measurement angles, the expectation values of CHSH quantities $|\\langle S_1\\rangle| > 2$ or $|\\langle S_2\\rangle| > 2$, which demonstrates the violation of the CHSH inequality.\n",
        "\n"
      ]
    },
    {
      "cell_type": "code",
      "execution_count": null,
      "id": "16f323fb",
      "metadata": {},
      "outputs": [
        {
          "ename": "AccountNotFoundError",
          "evalue": "\"Unable to find account. Please make sure an account with the channel name 'ibm_quantum_platform' is saved.\"",
          "output_type": "error",
          "traceback": [
            "\u001b[0;31m---------------------------------------------------------------------------\u001b[0m",
            "\u001b[0;31mAccountNotFoundError\u001b[0m                      Traceback (most recent call last)",
            "\u001b[1;32m/Users/neelangounden/Downloads/chsh-inequality.ipynb Cell 11\u001b[0m in \u001b[0;36m<cell line: 2>\u001b[0;34m()\u001b[0m\n\u001b[1;32m      <a href='vscode-notebook-cell:/Users/neelangounden/Downloads/chsh-inequality.ipynb#X13sZmlsZQ%3D%3D?line=0'>1</a>\u001b[0m \u001b[39m# To run on hardware, select the backend with the fewest number of jobs in the queue\u001b[39;00m\n\u001b[0;32m----> <a href='vscode-notebook-cell:/Users/neelangounden/Downloads/chsh-inequality.ipynb#X13sZmlsZQ%3D%3D?line=1'>2</a>\u001b[0m service \u001b[39m=\u001b[39m QiskitRuntimeService()\n\u001b[1;32m      <a href='vscode-notebook-cell:/Users/neelangounden/Downloads/chsh-inequality.ipynb#X13sZmlsZQ%3D%3D?line=2'>3</a>\u001b[0m backend \u001b[39m=\u001b[39m service\u001b[39m.\u001b[39mleast_busy(\n\u001b[1;32m      <a href='vscode-notebook-cell:/Users/neelangounden/Downloads/chsh-inequality.ipynb#X13sZmlsZQ%3D%3D?line=3'>4</a>\u001b[0m     operational\u001b[39m=\u001b[39m\u001b[39mTrue\u001b[39;00m, simulator\u001b[39m=\u001b[39m\u001b[39mFalse\u001b[39;00m, min_num_qubits\u001b[39m=\u001b[39m\u001b[39m127\u001b[39m\n\u001b[1;32m      <a href='vscode-notebook-cell:/Users/neelangounden/Downloads/chsh-inequality.ipynb#X13sZmlsZQ%3D%3D?line=4'>5</a>\u001b[0m )\n\u001b[1;32m      <a href='vscode-notebook-cell:/Users/neelangounden/Downloads/chsh-inequality.ipynb#X13sZmlsZQ%3D%3D?line=5'>6</a>\u001b[0m backend\u001b[39m.\u001b[39mname\n",
            "File \u001b[0;32m~/opt/anaconda3/lib/python3.9/site-packages/qiskit_ibm_runtime/qiskit_runtime_service.py:143\u001b[0m, in \u001b[0;36mQiskitRuntimeService.__init__\u001b[0;34m(self, channel, token, url, filename, name, instance, proxies, verify, private_endpoint, url_resolver, region, plans_preference, tags)\u001b[0m\n\u001b[1;32m    141\u001b[0m \u001b[39mself\u001b[39m\u001b[39m.\u001b[39m_all_instances: List[Dict[\u001b[39mstr\u001b[39m, Any]] \u001b[39m=\u001b[39m []\n\u001b[1;32m    142\u001b[0m \u001b[39mself\u001b[39m\u001b[39m.\u001b[39m_saved_instances: List[\u001b[39mstr\u001b[39m] \u001b[39m=\u001b[39m []\n\u001b[0;32m--> 143\u001b[0m \u001b[39mself\u001b[39m\u001b[39m.\u001b[39m_account \u001b[39m=\u001b[39m \u001b[39mself\u001b[39;49m\u001b[39m.\u001b[39;49m_discover_account(\n\u001b[1;32m    144\u001b[0m     token\u001b[39m=\u001b[39;49mtoken,\n\u001b[1;32m    145\u001b[0m     url\u001b[39m=\u001b[39;49murl,\n\u001b[1;32m    146\u001b[0m     instance\u001b[39m=\u001b[39;49minstance,\n\u001b[1;32m    147\u001b[0m     channel\u001b[39m=\u001b[39;49mchannel,\n\u001b[1;32m    148\u001b[0m     filename\u001b[39m=\u001b[39;49mfilename,\n\u001b[1;32m    149\u001b[0m     name\u001b[39m=\u001b[39;49mname,\n\u001b[1;32m    150\u001b[0m     proxies\u001b[39m=\u001b[39;49mProxyConfiguration(\u001b[39m*\u001b[39;49m\u001b[39m*\u001b[39;49mproxies) \u001b[39mif\u001b[39;49;00m proxies \u001b[39melse\u001b[39;49;00m \u001b[39mNone\u001b[39;49;00m,\n\u001b[1;32m    151\u001b[0m     verify\u001b[39m=\u001b[39;49mverify,\n\u001b[1;32m    152\u001b[0m )\n\u001b[1;32m    154\u001b[0m \u001b[39mif\u001b[39;00m private_endpoint \u001b[39mis\u001b[39;00m \u001b[39mnot\u001b[39;00m \u001b[39mNone\u001b[39;00m:\n\u001b[1;32m    155\u001b[0m     \u001b[39mself\u001b[39m\u001b[39m.\u001b[39m_account\u001b[39m.\u001b[39mprivate_endpoint \u001b[39m=\u001b[39m private_endpoint\n",
            "File \u001b[0;32m~/opt/anaconda3/lib/python3.9/site-packages/qiskit_ibm_runtime/qiskit_runtime_service.py:315\u001b[0m, in \u001b[0;36mQiskitRuntimeService._discover_account\u001b[0;34m(self, token, url, instance, channel, filename, name, proxies, verify)\u001b[0m\n\u001b[1;32m    313\u001b[0m \u001b[39m# channel is not defined yet, get it from the AccountManager\u001b[39;00m\n\u001b[1;32m    314\u001b[0m \u001b[39mif\u001b[39;00m account \u001b[39mis\u001b[39;00m \u001b[39mNone\u001b[39;00m:\n\u001b[0;32m--> 315\u001b[0m     account \u001b[39m=\u001b[39m AccountManager\u001b[39m.\u001b[39;49mget(filename\u001b[39m=\u001b[39;49mfilename)\n\u001b[1;32m    316\u001b[0m \u001b[39mif\u001b[39;00m instance:\n\u001b[1;32m    317\u001b[0m     account\u001b[39m.\u001b[39minstance \u001b[39m=\u001b[39m instance\n",
            "File \u001b[0;32m~/opt/anaconda3/lib/python3.9/site-packages/qiskit_ibm_runtime/accounts/management.py:209\u001b[0m, in \u001b[0;36mAccountManager.get\u001b[0;34m(cls, filename, name, channel)\u001b[0m\n\u001b[1;32m    206\u001b[0m     \u001b[39mif\u001b[39;00m account_name \u001b[39min\u001b[39;00m all_config:\n\u001b[1;32m    207\u001b[0m         \u001b[39mreturn\u001b[39;00m Account\u001b[39m.\u001b[39mfrom_saved_format(all_config[account_name])\n\u001b[0;32m--> 209\u001b[0m \u001b[39mraise\u001b[39;00m AccountNotFoundError(\n\u001b[1;32m    210\u001b[0m     \u001b[39m\"\u001b[39m\u001b[39mUnable to find account. Please make sure an account with the channel name \u001b[39m\u001b[39m\"\u001b[39m\n\u001b[1;32m    211\u001b[0m     \u001b[39mf\u001b[39m\u001b[39m\"\u001b[39m\u001b[39m'\u001b[39m\u001b[39m{\u001b[39;00mchannel_\u001b[39m}\u001b[39;00m\u001b[39m'\u001b[39m\u001b[39m is saved.\u001b[39m\u001b[39m\"\u001b[39m\n\u001b[1;32m    212\u001b[0m )\n",
            "\u001b[0;31mAccountNotFoundError\u001b[0m: \"Unable to find account. Please make sure an account with the channel name 'ibm_quantum_platform' is saved.\""
          ]
        }
      ],
      "source": [
        "# To run on hardware, select the backend with the fewest number of jobs in the queue\n",
        "service = QiskitRuntimeService()\n",
        "backend = service.least_busy(\n",
        "    operational=True, simulator=False, min_num_qubits=127\n",
        ")\n",
        "backend.name"
      ]
    },
    {
      "cell_type": "markdown",
      "id": "1ab329f2",
      "metadata": {},
      "source": [
        "### Create a parameterized CHSH circuit\n",
        "\n",
        "First, we write the circuit with the parameter $\\theta$, which we call `theta`. The [`Estimator` primitive](https://docs.quantum-computing.ibm.com/api/qiskit-ibm-runtime/qiskit_ibm_runtime.EstimatorV2) can enormously simplify circuit building and output analysis by directly providing expectation values of observables. Many problems of interest, especially for near-term applications on noisy systems, can be formulated in terms of expectation values. `Estimator` (V2) primitive can automatically change measurement basis based on the supplied observable.\n",
        "\n"
      ]
    },
    {
      "cell_type": "code",
      "execution_count": null,
      "id": "6c77e40a",
      "metadata": {},
      "outputs": [
        {
          "data": {
            "image/png": "[encoded data removed]",
            "text/plain": [
              "<Figure size 267.052x144.48 with 1 Axes>"
            ]
          },
          "execution_count": 3,
          "metadata": {},
          "output_type": "execute_result"
        }
      ],
      "source": [
        "theta = Parameter(\"$\\\\theta$\")\n",
        "\n",
        "chsh_circuit = QuantumCircuit(2)\n",
        "chsh_circuit.h(0)\n",
        "chsh_circuit.cx(0, 1)\n",
        "chsh_circuit.ry(theta, 0)\n",
        "chsh_circuit.draw(output=\"mpl\", idle_wires=False, style=\"iqp\")"
      ]
    },
    {
      "cell_type": "markdown",
      "id": "de760250",
      "metadata": {},
      "source": [
        "### Create a list of phase values to be assigned later\n",
        "\n",
        "After creating the parameterized CHSH circuit, you will create a list of phase values to be assigned to the circuit in the next step. You can use the following code to create a list of 21 phase values range from $0$ to $2 \\pi$ with equal spacing, that is, $0$, $0.1 \\pi$, $0.2 \\pi$, ..., $1.9 \\pi$, $2 \\pi$.\n",
        "\n"
      ]
    },
    {
      "cell_type": "code",
      "execution_count": null,
      "id": "bcb3b32b",
      "metadata": {},
      "outputs": [],
      "source": [
        "number_of_phases = 21\n",
        "phases = np.linspace(0, 2 * np.pi, number_of_phases)\n",
        "# Phases need to be expressed as list of lists in order to work\n",
        "individual_phases = [[ph] for ph in phases]"
      ]
    },
    {
      "cell_type": "markdown",
      "id": "6e559aed",
      "metadata": {},
      "source": [
        "### Observables\n",
        "\n",
        "Now we need observables from which to compute the expectation values.  In our case we are looking at orthogonal bases for each qubit, letting the parameterized $Y-$ rotation for the first qubit sweep the measurement basis nearly continuously with respect to the second qubit basis. We will therefore choose the observables $ZZ$, $ZX$, $XZ$, and $XX$.\n",
        "\n"
      ]
    },
    {
      "cell_type": "code",
      "execution_count": null,
      "id": "940fc1dc-89c5-4137-bea7-5e892dd7f36e",
      "metadata": {},
      "outputs": [],
      "source": [
        "# <CHSH1> = <AB> - <Ab> + <aB> + <ab> -> <ZZ> - <ZX> + <XZ> + <XX>\n",
        "observable1 = SparsePauliOp.from_list(\n",
        "    [(\"ZZ\", 1), (\"ZX\", -1), (\"XZ\", 1), (\"XX\", 1)]\n",
        ")\n",
        "\n",
        "# <CHSH2> = <AB> + <Ab> - <aB> + <ab> -> <ZZ> + <ZX> - <XZ> + <XX>\n",
        "observable2 = SparsePauliOp.from_list(\n",
        "    [(\"ZZ\", 1), (\"ZX\", 1), (\"XZ\", -1), (\"XX\", 1)]\n",
        ")"
      ]
    },
    {
      "cell_type": "markdown",
      "id": "efabedc4",
      "metadata": {},
      "source": [
        "## Step 2: Optimize problem for quantum hardware execution\n",
        "\n"
      ]
    },
    {
      "cell_type": "markdown",
      "id": "4b2b4637-a2d4-41d6-a9c5-98fe3b8a2cd2",
      "metadata": {},
      "source": [
        "To reduce the total job execution time, V2 primitives only accept circuits and observables that conforms to the instructions and connectivity supported by the target system (referred to as instruction set architecture (ISA) circuits and observables).\n",
        "\n"
      ]
    },
    {
      "cell_type": "markdown",
      "id": "5dcd3fea-3754-4c75-b11e-9216570336b7",
      "metadata": {},
      "source": [
        "### ISA Circuit\n",
        "\n"
      ]
    },
    {
      "cell_type": "code",
      "execution_count": null,
      "id": "9a5561eb",
      "metadata": {},
      "outputs": [
        {
          "ename": "NameError",
          "evalue": "name 'backend' is not defined",
          "output_type": "error",
          "traceback": [
            "\u001b[0;31m---------------------------------------------------------------------------\u001b[0m",
            "\u001b[0;31mNameError\u001b[0m                                 Traceback (most recent call last)",
            "\u001b[1;32m/Users/neelangounden/Downloads/chsh-inequality.ipynb Cell 21\u001b[0m in \u001b[0;36m<cell line: 1>\u001b[0;34m()\u001b[0m\n\u001b[0;32m----> <a href='vscode-notebook-cell:/Users/neelangounden/Downloads/chsh-inequality.ipynb#X26sZmlsZQ%3D%3D?line=0'>1</a>\u001b[0m target \u001b[39m=\u001b[39m backend\u001b[39m.\u001b[39mtarget\n\u001b[1;32m      <a href='vscode-notebook-cell:/Users/neelangounden/Downloads/chsh-inequality.ipynb#X26sZmlsZQ%3D%3D?line=1'>2</a>\u001b[0m pm \u001b[39m=\u001b[39m generate_preset_pass_manager(target\u001b[39m=\u001b[39mtarget, optimization_level\u001b[39m=\u001b[39m\u001b[39m3\u001b[39m)\n\u001b[1;32m      <a href='vscode-notebook-cell:/Users/neelangounden/Downloads/chsh-inequality.ipynb#X26sZmlsZQ%3D%3D?line=3'>4</a>\u001b[0m chsh_isa_circuit \u001b[39m=\u001b[39m pm\u001b[39m.\u001b[39mrun(chsh_circuit)\n",
            "\u001b[0;31mNameError\u001b[0m: name 'backend' is not defined"
          ]
        }
      ],
      "source": [
        "target = backend.target\n",
        "pm = generate_preset_pass_manager(target=target, optimization_level=3)\n",
        "\n",
        "chsh_isa_circuit = pm.run(chsh_circuit)\n",
        "chsh_isa_circuit.draw(output=\"mpl\", idle_wires=False, style=\"iqp\")"
      ]
    },
    {
      "cell_type": "markdown",
      "id": "718759d4-f1d8-45c3-9142-c8404059a892",
      "metadata": {},
      "source": [
        "### ISA Observables\n",
        "\n"
      ]
    },
    {
      "cell_type": "markdown",
      "id": "76b721cc-7f45-4195-ae61-53d29e2bf8d4",
      "metadata": {},
      "source": [
        "Similarly, we need to transform the observables to make it backend compatible before running jobs with [`Runtime Estimator V2`](/docs/api/qiskit-ibm-runtime/estimator-v2#run). We can perform the transformation using the `apply_layout` the method of `SparsePauliOp` object.\n",
        "\n"
      ]
    },
    {
      "cell_type": "code",
      "execution_count": null,
      "id": "a787d6f9-5df4-4e0b-b2f0-07948b882a94",
      "metadata": {},
      "outputs": [
        {
          "ename": "NameError",
          "evalue": "name 'chsh_isa_circuit' is not defined",
          "output_type": "error",
          "traceback": [
            "\u001b[0;31m---------------------------------------------------------------------------\u001b[0m",
            "\u001b[0;31mNameError\u001b[0m                                 Traceback (most recent call last)",
            "\u001b[1;32m/Users/neelangounden/Downloads/chsh-inequality.ipynb Cell 24\u001b[0m in \u001b[0;36m<cell line: 1>\u001b[0;34m()\u001b[0m\n\u001b[0;32m----> <a href='vscode-notebook-cell:/Users/neelangounden/Downloads/chsh-inequality.ipynb#X32sZmlsZQ%3D%3D?line=0'>1</a>\u001b[0m isa_observable1 \u001b[39m=\u001b[39m observable1\u001b[39m.\u001b[39mapply_layout(layout\u001b[39m=\u001b[39mchsh_isa_circuit\u001b[39m.\u001b[39mlayout)\n\u001b[1;32m      <a href='vscode-notebook-cell:/Users/neelangounden/Downloads/chsh-inequality.ipynb#X32sZmlsZQ%3D%3D?line=1'>2</a>\u001b[0m isa_observable2 \u001b[39m=\u001b[39m observable2\u001b[39m.\u001b[39mapply_layout(layout\u001b[39m=\u001b[39mchsh_isa_circuit\u001b[39m.\u001b[39mlayout)\n",
            "\u001b[0;31mNameError\u001b[0m: name 'chsh_isa_circuit' is not defined"
          ]
        }
      ],
      "source": [
        "isa_observable1 = observable1.apply_layout(layout=chsh_isa_circuit.layout)\n",
        "isa_observable2 = observable2.apply_layout(layout=chsh_isa_circuit.layout)"
      ]
    },
    {
      "cell_type": "markdown",
      "id": "b7194399",
      "metadata": {},
      "source": [
        "## Step 3: Execute using Qiskit primitives\n",
        "\n",
        "In order to execute the entire experiment in one call to the [`Estimator`](https://docs.quantum-computing.ibm.com/api/qiskit-ibm-runtime/qiskit_ibm_runtime.EstimatorV2).\n",
        "\n"
      ]
    },
    {
      "cell_type": "markdown",
      "id": "2d8ad9e1",
      "metadata": {},
      "source": [
        "We can create a [Qiskit Runtime `Estimator`](/docs/api/qiskit-ibm-runtime/estimator-v2) primitive to compute our expectation values. The `EstimatorV2.run()` method takes an iterable of `primitive unified blocs (PUBs)`. Each PUB is an iterable in the format `(circuit, observables, parameter_values: Optional, precision: Optional)`.\n",
        "\n"
      ]
    },
    {
      "cell_type": "code",
      "execution_count": null,
      "id": "e73db51f",
      "metadata": {},
      "outputs": [
        {
          "ename": "NameError",
          "evalue": "name 'backend' is not defined",
          "output_type": "error",
          "traceback": [
            "\u001b[0;31m---------------------------------------------------------------------------\u001b[0m",
            "\u001b[0;31mNameError\u001b[0m                                 Traceback (most recent call last)",
            "\u001b[1;32m/Users/neelangounden/Downloads/chsh-inequality.ipynb Cell 27\u001b[0m in \u001b[0;36m<cell line: 4>\u001b[0;34m()\u001b[0m\n\u001b[1;32m      <a href='vscode-notebook-cell:/Users/neelangounden/Downloads/chsh-inequality.ipynb#X35sZmlsZQ%3D%3D?line=0'>1</a>\u001b[0m \u001b[39m# To run on a local simulator:\u001b[39;00m\n\u001b[1;32m      <a href='vscode-notebook-cell:/Users/neelangounden/Downloads/chsh-inequality.ipynb#X35sZmlsZQ%3D%3D?line=1'>2</a>\u001b[0m \u001b[39m# Use the StatevectorEstimator from qiskit.primitives instead.\u001b[39;00m\n\u001b[0;32m----> <a href='vscode-notebook-cell:/Users/neelangounden/Downloads/chsh-inequality.ipynb#X35sZmlsZQ%3D%3D?line=3'>4</a>\u001b[0m estimator \u001b[39m=\u001b[39m Estimator(mode\u001b[39m=\u001b[39mbackend)\n\u001b[1;32m      <a href='vscode-notebook-cell:/Users/neelangounden/Downloads/chsh-inequality.ipynb#X35sZmlsZQ%3D%3D?line=5'>6</a>\u001b[0m pub \u001b[39m=\u001b[39m (\n\u001b[1;32m      <a href='vscode-notebook-cell:/Users/neelangounden/Downloads/chsh-inequality.ipynb#X35sZmlsZQ%3D%3D?line=6'>7</a>\u001b[0m     chsh_isa_circuit,  \u001b[39m# ISA circuit\u001b[39;00m\n\u001b[1;32m      <a href='vscode-notebook-cell:/Users/neelangounden/Downloads/chsh-inequality.ipynb#X35sZmlsZQ%3D%3D?line=7'>8</a>\u001b[0m     [[isa_observable1], [isa_observable2]],  \u001b[39m# ISA Observables\u001b[39;00m\n\u001b[1;32m      <a href='vscode-notebook-cell:/Users/neelangounden/Downloads/chsh-inequality.ipynb#X35sZmlsZQ%3D%3D?line=8'>9</a>\u001b[0m     individual_phases,  \u001b[39m# Parameter values\u001b[39;00m\n\u001b[1;32m     <a href='vscode-notebook-cell:/Users/neelangounden/Downloads/chsh-inequality.ipynb#X35sZmlsZQ%3D%3D?line=9'>10</a>\u001b[0m )\n\u001b[1;32m     <a href='vscode-notebook-cell:/Users/neelangounden/Downloads/chsh-inequality.ipynb#X35sZmlsZQ%3D%3D?line=11'>12</a>\u001b[0m job_result \u001b[39m=\u001b[39m estimator\u001b[39m.\u001b[39mrun(pubs\u001b[39m=\u001b[39m[pub])\u001b[39m.\u001b[39mresult()\n",
            "\u001b[0;31mNameError\u001b[0m: name 'backend' is not defined"
          ]
        }
      ],
      "source": [
        "# To run on a local simulator:\n",
        "# Use the StatevectorEstimator from qiskit.primitives instead.\n",
        "\n",
        "estimator = Estimator(mode=backend)\n",
        "\n",
        "pub = (\n",
        "    chsh_isa_circuit,  # ISA circuit\n",
        "    [[isa_observable1], [isa_observable2]],  # ISA Observables\n",
        "    individual_phases,  # Parameter values\n",
        ")\n",
        "\n",
        "job_result = estimator.run(pubs=[pub]).result()"
      ]
    },
    {
      "cell_type": "markdown",
      "id": "ace7dc90",
      "metadata": {},
      "source": [
        "## Step 4: Post-process and return result in desired classical format\n",
        "\n",
        "The estimator returns expectation values for both of the observables, $\\langle ZZ \\rangle - \\langle ZX \\rangle + \\langle XZ \\rangle + \\langle XX \\rangle$ and $\\langle ZZ \\rangle + \\langle ZX \\rangle - \\langle XZ \\rangle + \\langle XX \\rangle$.\n",
        "\n"
      ]
    },
    {
      "cell_type": "code",
      "execution_count": null,
      "id": "947fc660-073b-4dee-b347-358fd3e52ea2",
      "metadata": {},
      "outputs": [
        {
          "ename": "NameError",
          "evalue": "name 'job_result' is not defined",
          "output_type": "error",
          "traceback": [
            "\u001b[0;31m---------------------------------------------------------------------------\u001b[0m",
            "\u001b[0;31mNameError\u001b[0m                                 Traceback (most recent call last)",
            "\u001b[1;32m/Users/neelangounden/Downloads/chsh-inequality.ipynb Cell 29\u001b[0m in \u001b[0;36m<cell line: 1>\u001b[0;34m()\u001b[0m\n\u001b[0;32m----> <a href='vscode-notebook-cell:/Users/neelangounden/Downloads/chsh-inequality.ipynb#X40sZmlsZQ%3D%3D?line=0'>1</a>\u001b[0m chsh1_est \u001b[39m=\u001b[39m job_result[\u001b[39m0\u001b[39m]\u001b[39m.\u001b[39mdata\u001b[39m.\u001b[39mevs[\u001b[39m0\u001b[39m]\n\u001b[1;32m      <a href='vscode-notebook-cell:/Users/neelangounden/Downloads/chsh-inequality.ipynb#X40sZmlsZQ%3D%3D?line=1'>2</a>\u001b[0m chsh2_est \u001b[39m=\u001b[39m job_result[\u001b[39m0\u001b[39m]\u001b[39m.\u001b[39mdata\u001b[39m.\u001b[39mevs[\u001b[39m1\u001b[39m]\n",
            "\u001b[0;31mNameError\u001b[0m: name 'job_result' is not defined"
          ]
        }
      ],
      "source": [
        "chsh1_est = job_result[0].data.evs[0]\n",
        "chsh2_est = job_result[0].data.evs[1]"
      ]
    },
    {
      "cell_type": "code",
      "execution_count": null,
      "id": "f6267448",
      "metadata": {},
      "outputs": [
        {
          "ename": "NameError",
          "evalue": "name 'chsh1_est' is not defined",
          "output_type": "error",
          "traceback": [
            "\u001b[0;31m---------------------------------------------------------------------------\u001b[0m",
            "\u001b[0;31mNameError\u001b[0m                                 Traceback (most recent call last)",
            "\u001b[1;32m/Users/neelangounden/Downloads/chsh-inequality.ipynb Cell 30\u001b[0m in \u001b[0;36m<cell line: 4>\u001b[0;34m()\u001b[0m\n\u001b[1;32m      <a href='vscode-notebook-cell:/Users/neelangounden/Downloads/chsh-inequality.ipynb#X41sZmlsZQ%3D%3D?line=0'>1</a>\u001b[0m fig, ax \u001b[39m=\u001b[39m plt\u001b[39m.\u001b[39msubplots(figsize\u001b[39m=\u001b[39m(\u001b[39m10\u001b[39m, \u001b[39m6\u001b[39m))\n\u001b[1;32m      <a href='vscode-notebook-cell:/Users/neelangounden/Downloads/chsh-inequality.ipynb#X41sZmlsZQ%3D%3D?line=2'>3</a>\u001b[0m \u001b[39m# results from hardware\u001b[39;00m\n\u001b[0;32m----> <a href='vscode-notebook-cell:/Users/neelangounden/Downloads/chsh-inequality.ipynb#X41sZmlsZQ%3D%3D?line=3'>4</a>\u001b[0m ax\u001b[39m.\u001b[39mplot(phases \u001b[39m/\u001b[39m np\u001b[39m.\u001b[39mpi, chsh1_est, \u001b[39m\"\u001b[39m\u001b[39mo-\u001b[39m\u001b[39m\"\u001b[39m, label\u001b[39m=\u001b[39m\u001b[39m\"\u001b[39m\u001b[39mCHSH1\u001b[39m\u001b[39m\"\u001b[39m, zorder\u001b[39m=\u001b[39m\u001b[39m3\u001b[39m)\n\u001b[1;32m      <a href='vscode-notebook-cell:/Users/neelangounden/Downloads/chsh-inequality.ipynb#X41sZmlsZQ%3D%3D?line=4'>5</a>\u001b[0m ax\u001b[39m.\u001b[39mplot(phases \u001b[39m/\u001b[39m np\u001b[39m.\u001b[39mpi, chsh2_est, \u001b[39m\"\u001b[39m\u001b[39mo-\u001b[39m\u001b[39m\"\u001b[39m, label\u001b[39m=\u001b[39m\u001b[39m\"\u001b[39m\u001b[39mCHSH2\u001b[39m\u001b[39m\"\u001b[39m, zorder\u001b[39m=\u001b[39m\u001b[39m3\u001b[39m)\n\u001b[1;32m      <a href='vscode-notebook-cell:/Users/neelangounden/Downloads/chsh-inequality.ipynb#X41sZmlsZQ%3D%3D?line=6'>7</a>\u001b[0m \u001b[39m# classical bound +-2\u001b[39;00m\n",
            "\u001b[0;31mNameError\u001b[0m: name 'chsh1_est' is not defined"
          ]
        },
        {
          "data": {
            "image/png": "[encoded data removed]",
            "text/plain": [
              "<Figure size 720x432 with 1 Axes>"
            ]
          },
          "metadata": {
            "needs_background": "light"
          },
          "output_type": "display_data"
        }
      ],
      "source": [
        "fig, ax = plt.subplots(figsize=(10, 6))\n",
        "\n",
        "# results from hardware\n",
        "ax.plot(phases / np.pi, chsh1_est, \"o-\", label=\"CHSH1\", zorder=3)\n",
        "ax.plot(phases / np.pi, chsh2_est, \"o-\", label=\"CHSH2\", zorder=3)\n",
        "\n",
        "# classical bound +-2\n",
        "ax.axhline(y=2, color=\"0.9\", linestyle=\"--\")\n",
        "ax.axhline(y=-2, color=\"0.9\", linestyle=\"--\")\n",
        "\n",
        "# quantum bound, +-2√2\n",
        "ax.axhline(y=np.sqrt(2) * 2, color=\"0.9\", linestyle=\"-.\")\n",
        "ax.axhline(y=-np.sqrt(2) * 2, color=\"0.9\", linestyle=\"-.\")\n",
        "ax.fill_between(phases / np.pi, 2, 2 * np.sqrt(2), color=\"0.6\", alpha=0.7)\n",
        "ax.fill_between(phases / np.pi, -2, -2 * np.sqrt(2), color=\"0.6\", alpha=0.7)\n",
        "\n",
        "# set x tick labels to the unit of pi\n",
        "ax.xaxis.set_major_formatter(tck.FormatStrFormatter(\"%g $\\\\pi$\"))\n",
        "ax.xaxis.set_major_locator(tck.MultipleLocator(base=0.5))\n",
        "\n",
        "# set labels, and legend\n",
        "plt.xlabel(\"Theta\")\n",
        "plt.ylabel(\"CHSH witness\")\n",
        "plt.legend()\n",
        "plt.show()"
      ]
    },
    {
      "cell_type": "markdown",
      "id": "63e63853",
      "metadata": {},
      "source": [
        "In the figure, the lines and gray areas delimit the bounds; the outer-most (dash-dotted) lines delimit the quantum-bounds ($\\pm 2$), whereas the inner (dashed) lines delimit the classical bounds ($\\pm 2\\sqrt{2}$). You can see that there are regions where the CHSH witness quantities exceeds the classical bounds. Congratulations! You have successfully demonstrated the violation of CHSH inequality in a real quantum system!\n",
        "\n"
      ]
    },
    {
      "cell_type": "markdown",
      "id": "a1b8767d",
      "metadata": {},
      "source": [
        "© IBM Corp., 2017-2025"
      ]
    }
  ],
  "metadata": {
    "description": "Run an experiment on a quantum computer to demonstrate the violation of the CHSH inequality with the Estimator primitive.",
    "kernelspec": {
      "display_name": "Python 3.9.12 ('base')",
      "language": "python",
      "name": "python3"
    },
    "language_info": {
      "codemirror_mode": {
        "name": "ipython",
        "version": 3
      },
      "file_extension": ".py",
      "mimetype": "text/x-python",
      "name": "python",
      "nbconvert_exporter": "python",
      "pygments_lexer": "ipython3",
      "version": "3.9.12"
    },
    "title": "CHSH inequality",
    "vscode": {
      "interpreter": {
        "hash": "3c01265af6d6e751ec9da80404f45ff179164129ca0c03ed329e0ed4c7e56efd"
      }
    }
  },
  "nbformat": 4,
  "nbformat_minor": 5
}
