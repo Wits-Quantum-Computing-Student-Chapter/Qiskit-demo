{
 "cells": [
  {
   "cell_type": "markdown",
   "id": "1056d428",
   "metadata": {},
   "source": [
    "# Jupiter demo \n",
    "\n",
    "This section is just to add code for formatting like tables, images, and `.gif`s.\n",
    "\n",
    "Feel free to take code from here... we will delete it later 😊"
   ]
  },
  {
   "cell_type": "markdown",
   "id": "45810e14",
   "metadata": {},
   "source": [
    "## Load an image:\n",
    "We can use import images directly into markdown form the web using:\n",
    "```markdown\n",
    "![<image title>](<image url>)\n",
    "```\n",
    "![online logo](https://logowik.com/content/uploads/images/qiskit9093.logowik.com.webp)\n",
    "\n",
    "We can also to this for local images: (and it works for `.gif` files too 😎)\n",
    "```markdown\n",
    "![<image title>](<path-to-image>)\n",
    "```\n",
    "![local logo](Figures/DancingHappyDanceGIF.gif)\n"
   ]
  },
  {
   "cell_type": "markdown",
   "id": "c8ab2597",
   "metadata": {},
   "source": [
    "We can also open images in code.\n",
    "This can be useful if you want to display a plot/gif you have made although qiskit and matplotlib generally do display things automatically."
   ]
  },
  {
   "cell_type": "code",
   "execution_count": null,
   "id": "4901ed7d",
   "metadata": {},
   "outputs": [
    {
     "name": "stdout",
     "output_type": "stream",
     "text": [
      "From URL\n"
     ]
    },
    {
     "data": {
      "text/html": [
       "<img src=\"https://logowik.com/content/uploads/images/qiskit9093.logowik.com.webp\"/>"
      ],
      "text/plain": [
       "<IPython.core.display.Image object>"
      ]
     },
     "execution_count": 10,
     "metadata": {},
     "output_type": "execute_result"
    }
   ],
   "source": [
    "# To display images \n",
    "import os\n",
    "from IPython.display import Image\n",
    "\n",
    "print(\"From URL:\")\n",
    "image_url = \"https://logowik.com/content/uploads/images/qiskit9093.logowik.com.webp\"\n",
    "Image(url=image_url)\n"
   ]
  },
  {
   "cell_type": "code",
   "execution_count": null,
   "id": "a7d0f37b",
   "metadata": {},
   "outputs": [],
   "source": [
    "print(\"From file:\")\n",
    "image_file = os.path.join(\"Figures\", \"DancingHappyDanceGIF.gif\")\n",
    "Image(filename=image_file)"
   ]
  },
  {
   "cell_type": "markdown",
   "id": "760929b3",
   "metadata": {},
   "source": [
    "# Session 1"
   ]
  },
  {
   "cell_type": "markdown",
   "id": "f1740f18",
   "metadata": {},
   "source": [
    "## Introduction  \n",
    "(Pedro)"
   ]
  },
  {
   "cell_type": "markdown",
   "id": "1f18775b",
   "metadata": {
    "vscode": {
     "languageId": "plaintext"
    }
   },
   "source": [
    "## Setting Up Qiskit \n",
    "(Pedro)"
   ]
  },
  {
   "cell_type": "markdown",
   "id": "100d0f27",
   "metadata": {},
   "source": []
  }
 ],
 "metadata": {
  "kernelspec": {
   "display_name": ".venv (3.12.2)",
   "language": "python",
   "name": "python3"
  },
  "language_info": {
   "codemirror_mode": {
    "name": "ipython",
    "version": 3
   },
   "file_extension": ".py",
   "mimetype": "text/x-python",
   "name": "python",
   "nbconvert_exporter": "python",
   "pygments_lexer": "ipython3",
   "version": "3.12.2"
  }
 },
 "nbformat": 4,
 "nbformat_minor": 5
}
